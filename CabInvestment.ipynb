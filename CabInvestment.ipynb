{
 "cells": [
  {
   "cell_type": "code",
   "execution_count": 7,
   "id": "1c99263d",
   "metadata": {},
   "outputs": [],
   "source": [
    "import numpy as np\n",
    "import pandas as pd\n",
    "import matplotlib.pyplot as plt\n",
    "import seaborn as sns"
   ]
  },
  {
   "cell_type": "code",
   "execution_count": 8,
   "id": "76fd6d88",
   "metadata": {},
   "outputs": [],
   "source": [
    "csv_cab = pd.read_csv('C:/Users/zgrts/OneDrive/Desktop/DataGlacierCsv/Cab_Data.csv')\n",
    "csv_city = pd.read_csv('C:/Users/zgrts/OneDrive/Desktop/DataGlacierCsv/City.csv')\n",
    "csv_customer = pd.read_csv('C:/Users/zgrts/OneDrive/Desktop/DataGlacierCsv/Customer_ID.csv')\n",
    "csv_transaction = pd.read_csv('C:/Users/zgrts/OneDrive/Desktop/DataGlacierCsv/Transaction_ID.csv')"
   ]
  },
  {
   "cell_type": "code",
   "execution_count": 9,
   "id": "9194c21f",
   "metadata": {},
   "outputs": [
    {
     "data": {
      "text/html": [
       "<div>\n",
       "<style scoped>\n",
       "    .dataframe tbody tr th:only-of-type {\n",
       "        vertical-align: middle;\n",
       "    }\n",
       "\n",
       "    .dataframe tbody tr th {\n",
       "        vertical-align: top;\n",
       "    }\n",
       "\n",
       "    .dataframe thead th {\n",
       "        text-align: right;\n",
       "    }\n",
       "</style>\n",
       "<table border=\"1\" class=\"dataframe\">\n",
       "  <thead>\n",
       "    <tr style=\"text-align: right;\">\n",
       "      <th></th>\n",
       "      <th>Transaction ID</th>\n",
       "      <th>Date of Travel</th>\n",
       "      <th>Company</th>\n",
       "      <th>City</th>\n",
       "      <th>KM Travelled</th>\n",
       "      <th>Price Charged</th>\n",
       "      <th>Cost of Trip</th>\n",
       "    </tr>\n",
       "  </thead>\n",
       "  <tbody>\n",
       "    <tr>\n",
       "      <th>0</th>\n",
       "      <td>10000011</td>\n",
       "      <td>42377</td>\n",
       "      <td>Pink Cab</td>\n",
       "      <td>ATLANTA GA</td>\n",
       "      <td>30.45</td>\n",
       "      <td>370.95</td>\n",
       "      <td>313.635</td>\n",
       "    </tr>\n",
       "    <tr>\n",
       "      <th>1</th>\n",
       "      <td>10000012</td>\n",
       "      <td>42375</td>\n",
       "      <td>Pink Cab</td>\n",
       "      <td>ATLANTA GA</td>\n",
       "      <td>28.62</td>\n",
       "      <td>358.52</td>\n",
       "      <td>334.854</td>\n",
       "    </tr>\n",
       "    <tr>\n",
       "      <th>2</th>\n",
       "      <td>10000013</td>\n",
       "      <td>42371</td>\n",
       "      <td>Pink Cab</td>\n",
       "      <td>ATLANTA GA</td>\n",
       "      <td>9.04</td>\n",
       "      <td>125.20</td>\n",
       "      <td>97.632</td>\n",
       "    </tr>\n",
       "    <tr>\n",
       "      <th>3</th>\n",
       "      <td>10000014</td>\n",
       "      <td>42376</td>\n",
       "      <td>Pink Cab</td>\n",
       "      <td>ATLANTA GA</td>\n",
       "      <td>33.17</td>\n",
       "      <td>377.40</td>\n",
       "      <td>351.602</td>\n",
       "    </tr>\n",
       "    <tr>\n",
       "      <th>4</th>\n",
       "      <td>10000015</td>\n",
       "      <td>42372</td>\n",
       "      <td>Pink Cab</td>\n",
       "      <td>ATLANTA GA</td>\n",
       "      <td>8.73</td>\n",
       "      <td>114.62</td>\n",
       "      <td>97.776</td>\n",
       "    </tr>\n",
       "  </tbody>\n",
       "</table>\n",
       "</div>"
      ],
      "text/plain": [
       "   Transaction ID  Date of Travel   Company        City  KM Travelled  \\\n",
       "0        10000011           42377  Pink Cab  ATLANTA GA         30.45   \n",
       "1        10000012           42375  Pink Cab  ATLANTA GA         28.62   \n",
       "2        10000013           42371  Pink Cab  ATLANTA GA          9.04   \n",
       "3        10000014           42376  Pink Cab  ATLANTA GA         33.17   \n",
       "4        10000015           42372  Pink Cab  ATLANTA GA          8.73   \n",
       "\n",
       "   Price Charged  Cost of Trip  \n",
       "0         370.95       313.635  \n",
       "1         358.52       334.854  \n",
       "2         125.20        97.632  \n",
       "3         377.40       351.602  \n",
       "4         114.62        97.776  "
      ]
     },
     "execution_count": 9,
     "metadata": {},
     "output_type": "execute_result"
    }
   ],
   "source": [
    "csv_cab.head()"
   ]
  },
  {
   "cell_type": "code",
   "execution_count": 10,
   "id": "f51295e5",
   "metadata": {},
   "outputs": [
    {
     "data": {
      "text/html": [
       "<div>\n",
       "<style scoped>\n",
       "    .dataframe tbody tr th:only-of-type {\n",
       "        vertical-align: middle;\n",
       "    }\n",
       "\n",
       "    .dataframe tbody tr th {\n",
       "        vertical-align: top;\n",
       "    }\n",
       "\n",
       "    .dataframe thead th {\n",
       "        text-align: right;\n",
       "    }\n",
       "</style>\n",
       "<table border=\"1\" class=\"dataframe\">\n",
       "  <thead>\n",
       "    <tr style=\"text-align: right;\">\n",
       "      <th></th>\n",
       "      <th>City</th>\n",
       "      <th>Population</th>\n",
       "      <th>Users</th>\n",
       "    </tr>\n",
       "  </thead>\n",
       "  <tbody>\n",
       "    <tr>\n",
       "      <th>0</th>\n",
       "      <td>NEW YORK NY</td>\n",
       "      <td>8,405,837</td>\n",
       "      <td>302,149</td>\n",
       "    </tr>\n",
       "    <tr>\n",
       "      <th>1</th>\n",
       "      <td>CHICAGO IL</td>\n",
       "      <td>1,955,130</td>\n",
       "      <td>164,468</td>\n",
       "    </tr>\n",
       "    <tr>\n",
       "      <th>2</th>\n",
       "      <td>LOS ANGELES CA</td>\n",
       "      <td>1,595,037</td>\n",
       "      <td>144,132</td>\n",
       "    </tr>\n",
       "    <tr>\n",
       "      <th>3</th>\n",
       "      <td>MIAMI FL</td>\n",
       "      <td>1,339,155</td>\n",
       "      <td>17,675</td>\n",
       "    </tr>\n",
       "    <tr>\n",
       "      <th>4</th>\n",
       "      <td>SILICON VALLEY</td>\n",
       "      <td>1,177,609</td>\n",
       "      <td>27,247</td>\n",
       "    </tr>\n",
       "  </tbody>\n",
       "</table>\n",
       "</div>"
      ],
      "text/plain": [
       "             City   Population      Users\n",
       "0     NEW YORK NY   8,405,837    302,149 \n",
       "1      CHICAGO IL   1,955,130    164,468 \n",
       "2  LOS ANGELES CA   1,595,037    144,132 \n",
       "3        MIAMI FL   1,339,155     17,675 \n",
       "4  SILICON VALLEY   1,177,609     27,247 "
      ]
     },
     "execution_count": 10,
     "metadata": {},
     "output_type": "execute_result"
    }
   ],
   "source": [
    "csv_city.head()"
   ]
  },
  {
   "cell_type": "code",
   "execution_count": 11,
   "id": "c31c5a12",
   "metadata": {},
   "outputs": [
    {
     "data": {
      "text/html": [
       "<div>\n",
       "<style scoped>\n",
       "    .dataframe tbody tr th:only-of-type {\n",
       "        vertical-align: middle;\n",
       "    }\n",
       "\n",
       "    .dataframe tbody tr th {\n",
       "        vertical-align: top;\n",
       "    }\n",
       "\n",
       "    .dataframe thead th {\n",
       "        text-align: right;\n",
       "    }\n",
       "</style>\n",
       "<table border=\"1\" class=\"dataframe\">\n",
       "  <thead>\n",
       "    <tr style=\"text-align: right;\">\n",
       "      <th></th>\n",
       "      <th>Customer ID</th>\n",
       "      <th>Gender</th>\n",
       "      <th>Age</th>\n",
       "      <th>Income (USD/Month)</th>\n",
       "    </tr>\n",
       "  </thead>\n",
       "  <tbody>\n",
       "    <tr>\n",
       "      <th>0</th>\n",
       "      <td>29290</td>\n",
       "      <td>Male</td>\n",
       "      <td>28</td>\n",
       "      <td>10813</td>\n",
       "    </tr>\n",
       "    <tr>\n",
       "      <th>1</th>\n",
       "      <td>27703</td>\n",
       "      <td>Male</td>\n",
       "      <td>27</td>\n",
       "      <td>9237</td>\n",
       "    </tr>\n",
       "    <tr>\n",
       "      <th>2</th>\n",
       "      <td>28712</td>\n",
       "      <td>Male</td>\n",
       "      <td>53</td>\n",
       "      <td>11242</td>\n",
       "    </tr>\n",
       "    <tr>\n",
       "      <th>3</th>\n",
       "      <td>28020</td>\n",
       "      <td>Male</td>\n",
       "      <td>23</td>\n",
       "      <td>23327</td>\n",
       "    </tr>\n",
       "    <tr>\n",
       "      <th>4</th>\n",
       "      <td>27182</td>\n",
       "      <td>Male</td>\n",
       "      <td>33</td>\n",
       "      <td>8536</td>\n",
       "    </tr>\n",
       "  </tbody>\n",
       "</table>\n",
       "</div>"
      ],
      "text/plain": [
       "   Customer ID Gender  Age  Income (USD/Month)\n",
       "0        29290   Male   28               10813\n",
       "1        27703   Male   27                9237\n",
       "2        28712   Male   53               11242\n",
       "3        28020   Male   23               23327\n",
       "4        27182   Male   33                8536"
      ]
     },
     "execution_count": 11,
     "metadata": {},
     "output_type": "execute_result"
    }
   ],
   "source": [
    "csv_customer.head()"
   ]
  },
  {
   "cell_type": "code",
   "execution_count": 12,
   "id": "b0c4ea93",
   "metadata": {},
   "outputs": [
    {
     "data": {
      "text/html": [
       "<div>\n",
       "<style scoped>\n",
       "    .dataframe tbody tr th:only-of-type {\n",
       "        vertical-align: middle;\n",
       "    }\n",
       "\n",
       "    .dataframe tbody tr th {\n",
       "        vertical-align: top;\n",
       "    }\n",
       "\n",
       "    .dataframe thead th {\n",
       "        text-align: right;\n",
       "    }\n",
       "</style>\n",
       "<table border=\"1\" class=\"dataframe\">\n",
       "  <thead>\n",
       "    <tr style=\"text-align: right;\">\n",
       "      <th></th>\n",
       "      <th>Transaction ID</th>\n",
       "      <th>Customer ID</th>\n",
       "      <th>Payment_Mode</th>\n",
       "    </tr>\n",
       "  </thead>\n",
       "  <tbody>\n",
       "    <tr>\n",
       "      <th>0</th>\n",
       "      <td>10000011</td>\n",
       "      <td>29290</td>\n",
       "      <td>Card</td>\n",
       "    </tr>\n",
       "    <tr>\n",
       "      <th>1</th>\n",
       "      <td>10000012</td>\n",
       "      <td>27703</td>\n",
       "      <td>Card</td>\n",
       "    </tr>\n",
       "    <tr>\n",
       "      <th>2</th>\n",
       "      <td>10000013</td>\n",
       "      <td>28712</td>\n",
       "      <td>Cash</td>\n",
       "    </tr>\n",
       "    <tr>\n",
       "      <th>3</th>\n",
       "      <td>10000014</td>\n",
       "      <td>28020</td>\n",
       "      <td>Cash</td>\n",
       "    </tr>\n",
       "    <tr>\n",
       "      <th>4</th>\n",
       "      <td>10000015</td>\n",
       "      <td>27182</td>\n",
       "      <td>Card</td>\n",
       "    </tr>\n",
       "  </tbody>\n",
       "</table>\n",
       "</div>"
      ],
      "text/plain": [
       "   Transaction ID  Customer ID Payment_Mode\n",
       "0        10000011        29290         Card\n",
       "1        10000012        27703         Card\n",
       "2        10000013        28712         Cash\n",
       "3        10000014        28020         Cash\n",
       "4        10000015        27182         Card"
      ]
     },
     "execution_count": 12,
     "metadata": {},
     "output_type": "execute_result"
    }
   ],
   "source": [
    "csv_transaction.head()"
   ]
  },
  {
   "cell_type": "code",
   "execution_count": 13,
   "id": "ab997ae1",
   "metadata": {},
   "outputs": [
    {
     "data": {
      "text/html": [
       "<div>\n",
       "<style scoped>\n",
       "    .dataframe tbody tr th:only-of-type {\n",
       "        vertical-align: middle;\n",
       "    }\n",
       "\n",
       "    .dataframe tbody tr th {\n",
       "        vertical-align: top;\n",
       "    }\n",
       "\n",
       "    .dataframe thead th {\n",
       "        text-align: right;\n",
       "    }\n",
       "</style>\n",
       "<table border=\"1\" class=\"dataframe\">\n",
       "  <thead>\n",
       "    <tr style=\"text-align: right;\">\n",
       "      <th></th>\n",
       "      <th>Transaction ID</th>\n",
       "      <th>Date of Travel</th>\n",
       "      <th>Company</th>\n",
       "      <th>City</th>\n",
       "      <th>KM Travelled</th>\n",
       "      <th>Price Charged</th>\n",
       "      <th>Cost of Trip</th>\n",
       "      <th>Population</th>\n",
       "      <th>Users</th>\n",
       "    </tr>\n",
       "  </thead>\n",
       "  <tbody>\n",
       "    <tr>\n",
       "      <th>0</th>\n",
       "      <td>10000011</td>\n",
       "      <td>42377</td>\n",
       "      <td>Pink Cab</td>\n",
       "      <td>ATLANTA GA</td>\n",
       "      <td>30.45</td>\n",
       "      <td>370.95</td>\n",
       "      <td>313.635</td>\n",
       "      <td>814,885</td>\n",
       "      <td>24,701</td>\n",
       "    </tr>\n",
       "    <tr>\n",
       "      <th>1</th>\n",
       "      <td>10000012</td>\n",
       "      <td>42375</td>\n",
       "      <td>Pink Cab</td>\n",
       "      <td>ATLANTA GA</td>\n",
       "      <td>28.62</td>\n",
       "      <td>358.52</td>\n",
       "      <td>334.854</td>\n",
       "      <td>814,885</td>\n",
       "      <td>24,701</td>\n",
       "    </tr>\n",
       "    <tr>\n",
       "      <th>2</th>\n",
       "      <td>10000013</td>\n",
       "      <td>42371</td>\n",
       "      <td>Pink Cab</td>\n",
       "      <td>ATLANTA GA</td>\n",
       "      <td>9.04</td>\n",
       "      <td>125.20</td>\n",
       "      <td>97.632</td>\n",
       "      <td>814,885</td>\n",
       "      <td>24,701</td>\n",
       "    </tr>\n",
       "    <tr>\n",
       "      <th>3</th>\n",
       "      <td>10000014</td>\n",
       "      <td>42376</td>\n",
       "      <td>Pink Cab</td>\n",
       "      <td>ATLANTA GA</td>\n",
       "      <td>33.17</td>\n",
       "      <td>377.40</td>\n",
       "      <td>351.602</td>\n",
       "      <td>814,885</td>\n",
       "      <td>24,701</td>\n",
       "    </tr>\n",
       "    <tr>\n",
       "      <th>4</th>\n",
       "      <td>10000015</td>\n",
       "      <td>42372</td>\n",
       "      <td>Pink Cab</td>\n",
       "      <td>ATLANTA GA</td>\n",
       "      <td>8.73</td>\n",
       "      <td>114.62</td>\n",
       "      <td>97.776</td>\n",
       "      <td>814,885</td>\n",
       "      <td>24,701</td>\n",
       "    </tr>\n",
       "  </tbody>\n",
       "</table>\n",
       "</div>"
      ],
      "text/plain": [
       "   Transaction ID  Date of Travel   Company        City  KM Travelled  \\\n",
       "0        10000011           42377  Pink Cab  ATLANTA GA         30.45   \n",
       "1        10000012           42375  Pink Cab  ATLANTA GA         28.62   \n",
       "2        10000013           42371  Pink Cab  ATLANTA GA          9.04   \n",
       "3        10000014           42376  Pink Cab  ATLANTA GA         33.17   \n",
       "4        10000015           42372  Pink Cab  ATLANTA GA          8.73   \n",
       "\n",
       "   Price Charged  Cost of Trip Population     Users  \n",
       "0         370.95       313.635   814,885    24,701   \n",
       "1         358.52       334.854   814,885    24,701   \n",
       "2         125.20        97.632   814,885    24,701   \n",
       "3         377.40       351.602   814,885    24,701   \n",
       "4         114.62        97.776   814,885    24,701   "
      ]
     },
     "execution_count": 13,
     "metadata": {},
     "output_type": "execute_result"
    }
   ],
   "source": [
    "new_csv1 = pd.merge(csv_cab,csv_city)\n",
    "new_csv2 = pd.merge(csv_customer,csv_transaction)\n",
    "\n",
    "new_csv = pd.merge(new_csv1,new_csv2)\n",
    "new_csv1.head()"
   ]
  },
  {
   "cell_type": "markdown",
   "id": "e4e120c0",
   "metadata": {},
   "source": [
    "Dropped the Date of Travel column because the values doesn't make any sense."
   ]
  },
  {
   "cell_type": "code",
   "execution_count": 14,
   "id": "821bb03a",
   "metadata": {},
   "outputs": [
    {
     "data": {
      "text/plain": [
       "array(['Pink Cab', 'Yellow Cab'], dtype=object)"
      ]
     },
     "execution_count": 14,
     "metadata": {},
     "output_type": "execute_result"
    }
   ],
   "source": [
    "new_csv.Company.unique()"
   ]
  },
  {
   "cell_type": "code",
   "execution_count": 15,
   "id": "dcd68eeb",
   "metadata": {},
   "outputs": [
    {
     "data": {
      "text/plain": [
       "0         False\n",
       "1         False\n",
       "2         False\n",
       "3         False\n",
       "4         False\n",
       "          ...  \n",
       "359387    False\n",
       "359388    False\n",
       "359389    False\n",
       "359390    False\n",
       "359391    False\n",
       "Length: 359392, dtype: bool"
      ]
     },
     "execution_count": 15,
     "metadata": {},
     "output_type": "execute_result"
    }
   ],
   "source": [
    "new_csv.duplicated()"
   ]
  },
  {
   "cell_type": "markdown",
   "id": "533bd91e",
   "metadata": {},
   "source": [
    "We do not have any duplicated rows"
   ]
  },
  {
   "cell_type": "code",
   "execution_count": 16,
   "id": "7104a02e",
   "metadata": {},
   "outputs": [],
   "source": [
    "from datetime import datetime, timedelta\n",
    "def to_date_format(n):\n",
    "    date_str =(datetime(1899,12,30) + timedelta(n-1)).strftime(\"%d-%m-%Y\")\n",
    "    date_date =  datetime.strptime(date_str, \"%d-%m-%Y\")\n",
    "    return date_date"
   ]
  },
  {
   "cell_type": "code",
   "execution_count": 17,
   "id": "27b373e9",
   "metadata": {},
   "outputs": [
    {
     "data": {
      "text/html": [
       "<div>\n",
       "<style scoped>\n",
       "    .dataframe tbody tr th:only-of-type {\n",
       "        vertical-align: middle;\n",
       "    }\n",
       "\n",
       "    .dataframe tbody tr th {\n",
       "        vertical-align: top;\n",
       "    }\n",
       "\n",
       "    .dataframe thead th {\n",
       "        text-align: right;\n",
       "    }\n",
       "</style>\n",
       "<table border=\"1\" class=\"dataframe\">\n",
       "  <thead>\n",
       "    <tr style=\"text-align: right;\">\n",
       "      <th></th>\n",
       "      <th>Transaction ID</th>\n",
       "      <th>Date of Travel</th>\n",
       "      <th>Company</th>\n",
       "      <th>City</th>\n",
       "      <th>KM Travelled</th>\n",
       "      <th>Price Charged</th>\n",
       "      <th>Cost of Trip</th>\n",
       "      <th>Population</th>\n",
       "      <th>Users</th>\n",
       "      <th>Customer ID</th>\n",
       "      <th>Gender</th>\n",
       "      <th>Age</th>\n",
       "      <th>Income (USD/Month)</th>\n",
       "      <th>Payment_Mode</th>\n",
       "    </tr>\n",
       "  </thead>\n",
       "  <tbody>\n",
       "    <tr>\n",
       "      <th>0</th>\n",
       "      <td>10000011</td>\n",
       "      <td>2016-01-07</td>\n",
       "      <td>Pink Cab</td>\n",
       "      <td>ATLANTA GA</td>\n",
       "      <td>30.45</td>\n",
       "      <td>370.95</td>\n",
       "      <td>313.635</td>\n",
       "      <td>814,885</td>\n",
       "      <td>24,701</td>\n",
       "      <td>29290</td>\n",
       "      <td>Male</td>\n",
       "      <td>28</td>\n",
       "      <td>10813</td>\n",
       "      <td>Card</td>\n",
       "    </tr>\n",
       "    <tr>\n",
       "      <th>1</th>\n",
       "      <td>10000012</td>\n",
       "      <td>2016-01-05</td>\n",
       "      <td>Pink Cab</td>\n",
       "      <td>ATLANTA GA</td>\n",
       "      <td>28.62</td>\n",
       "      <td>358.52</td>\n",
       "      <td>334.854</td>\n",
       "      <td>814,885</td>\n",
       "      <td>24,701</td>\n",
       "      <td>27703</td>\n",
       "      <td>Male</td>\n",
       "      <td>27</td>\n",
       "      <td>9237</td>\n",
       "      <td>Card</td>\n",
       "    </tr>\n",
       "    <tr>\n",
       "      <th>2</th>\n",
       "      <td>10000013</td>\n",
       "      <td>2016-01-01</td>\n",
       "      <td>Pink Cab</td>\n",
       "      <td>ATLANTA GA</td>\n",
       "      <td>9.04</td>\n",
       "      <td>125.20</td>\n",
       "      <td>97.632</td>\n",
       "      <td>814,885</td>\n",
       "      <td>24,701</td>\n",
       "      <td>28712</td>\n",
       "      <td>Male</td>\n",
       "      <td>53</td>\n",
       "      <td>11242</td>\n",
       "      <td>Cash</td>\n",
       "    </tr>\n",
       "    <tr>\n",
       "      <th>3</th>\n",
       "      <td>10000014</td>\n",
       "      <td>2016-01-06</td>\n",
       "      <td>Pink Cab</td>\n",
       "      <td>ATLANTA GA</td>\n",
       "      <td>33.17</td>\n",
       "      <td>377.40</td>\n",
       "      <td>351.602</td>\n",
       "      <td>814,885</td>\n",
       "      <td>24,701</td>\n",
       "      <td>28020</td>\n",
       "      <td>Male</td>\n",
       "      <td>23</td>\n",
       "      <td>23327</td>\n",
       "      <td>Cash</td>\n",
       "    </tr>\n",
       "    <tr>\n",
       "      <th>4</th>\n",
       "      <td>10000015</td>\n",
       "      <td>2016-01-02</td>\n",
       "      <td>Pink Cab</td>\n",
       "      <td>ATLANTA GA</td>\n",
       "      <td>8.73</td>\n",
       "      <td>114.62</td>\n",
       "      <td>97.776</td>\n",
       "      <td>814,885</td>\n",
       "      <td>24,701</td>\n",
       "      <td>27182</td>\n",
       "      <td>Male</td>\n",
       "      <td>33</td>\n",
       "      <td>8536</td>\n",
       "      <td>Card</td>\n",
       "    </tr>\n",
       "  </tbody>\n",
       "</table>\n",
       "</div>"
      ],
      "text/plain": [
       "   Transaction ID Date of Travel   Company        City  KM Travelled  \\\n",
       "0        10000011     2016-01-07  Pink Cab  ATLANTA GA         30.45   \n",
       "1        10000012     2016-01-05  Pink Cab  ATLANTA GA         28.62   \n",
       "2        10000013     2016-01-01  Pink Cab  ATLANTA GA          9.04   \n",
       "3        10000014     2016-01-06  Pink Cab  ATLANTA GA         33.17   \n",
       "4        10000015     2016-01-02  Pink Cab  ATLANTA GA          8.73   \n",
       "\n",
       "   Price Charged  Cost of Trip Population     Users  Customer ID Gender  Age  \\\n",
       "0         370.95       313.635   814,885    24,701         29290   Male   28   \n",
       "1         358.52       334.854   814,885    24,701         27703   Male   27   \n",
       "2         125.20        97.632   814,885    24,701         28712   Male   53   \n",
       "3         377.40       351.602   814,885    24,701         28020   Male   23   \n",
       "4         114.62        97.776   814,885    24,701         27182   Male   33   \n",
       "\n",
       "   Income (USD/Month) Payment_Mode  \n",
       "0               10813         Card  \n",
       "1                9237         Card  \n",
       "2               11242         Cash  \n",
       "3               23327         Cash  \n",
       "4                8536         Card  "
      ]
     },
     "execution_count": 17,
     "metadata": {},
     "output_type": "execute_result"
    }
   ],
   "source": [
    "new_csv['Date of Travel'] = new_csv['Date of Travel'].apply(lambda x:to_date_format(x))\n",
    "\n",
    "new_csv.head()"
   ]
  },
  {
   "cell_type": "code",
   "execution_count": 18,
   "id": "630a7ec5",
   "metadata": {},
   "outputs": [
    {
     "data": {
      "text/html": [
       "<div>\n",
       "<style scoped>\n",
       "    .dataframe tbody tr th:only-of-type {\n",
       "        vertical-align: middle;\n",
       "    }\n",
       "\n",
       "    .dataframe tbody tr th {\n",
       "        vertical-align: top;\n",
       "    }\n",
       "\n",
       "    .dataframe thead th {\n",
       "        text-align: right;\n",
       "    }\n",
       "</style>\n",
       "<table border=\"1\" class=\"dataframe\">\n",
       "  <thead>\n",
       "    <tr style=\"text-align: right;\">\n",
       "      <th></th>\n",
       "      <th>Transaction ID</th>\n",
       "      <th>Company</th>\n",
       "      <th>City</th>\n",
       "      <th>KM Travelled</th>\n",
       "      <th>Price Charged</th>\n",
       "      <th>Cost of Trip</th>\n",
       "      <th>Population</th>\n",
       "      <th>Users</th>\n",
       "      <th>Customer ID</th>\n",
       "      <th>Gender</th>\n",
       "      <th>Age</th>\n",
       "      <th>Income (USD/Month)</th>\n",
       "      <th>Payment_Mode</th>\n",
       "      <th>Month</th>\n",
       "      <th>Year</th>\n",
       "    </tr>\n",
       "  </thead>\n",
       "  <tbody>\n",
       "    <tr>\n",
       "      <th>0</th>\n",
       "      <td>10000011</td>\n",
       "      <td>Pink Cab</td>\n",
       "      <td>ATLANTA GA</td>\n",
       "      <td>30.45</td>\n",
       "      <td>370.95</td>\n",
       "      <td>313.635</td>\n",
       "      <td>814,885</td>\n",
       "      <td>24,701</td>\n",
       "      <td>29290</td>\n",
       "      <td>Male</td>\n",
       "      <td>28</td>\n",
       "      <td>10813</td>\n",
       "      <td>Card</td>\n",
       "      <td>1</td>\n",
       "      <td>2016</td>\n",
       "    </tr>\n",
       "    <tr>\n",
       "      <th>1</th>\n",
       "      <td>10000012</td>\n",
       "      <td>Pink Cab</td>\n",
       "      <td>ATLANTA GA</td>\n",
       "      <td>28.62</td>\n",
       "      <td>358.52</td>\n",
       "      <td>334.854</td>\n",
       "      <td>814,885</td>\n",
       "      <td>24,701</td>\n",
       "      <td>27703</td>\n",
       "      <td>Male</td>\n",
       "      <td>27</td>\n",
       "      <td>9237</td>\n",
       "      <td>Card</td>\n",
       "      <td>1</td>\n",
       "      <td>2016</td>\n",
       "    </tr>\n",
       "    <tr>\n",
       "      <th>2</th>\n",
       "      <td>10000013</td>\n",
       "      <td>Pink Cab</td>\n",
       "      <td>ATLANTA GA</td>\n",
       "      <td>9.04</td>\n",
       "      <td>125.20</td>\n",
       "      <td>97.632</td>\n",
       "      <td>814,885</td>\n",
       "      <td>24,701</td>\n",
       "      <td>28712</td>\n",
       "      <td>Male</td>\n",
       "      <td>53</td>\n",
       "      <td>11242</td>\n",
       "      <td>Cash</td>\n",
       "      <td>1</td>\n",
       "      <td>2016</td>\n",
       "    </tr>\n",
       "    <tr>\n",
       "      <th>3</th>\n",
       "      <td>10000014</td>\n",
       "      <td>Pink Cab</td>\n",
       "      <td>ATLANTA GA</td>\n",
       "      <td>33.17</td>\n",
       "      <td>377.40</td>\n",
       "      <td>351.602</td>\n",
       "      <td>814,885</td>\n",
       "      <td>24,701</td>\n",
       "      <td>28020</td>\n",
       "      <td>Male</td>\n",
       "      <td>23</td>\n",
       "      <td>23327</td>\n",
       "      <td>Cash</td>\n",
       "      <td>1</td>\n",
       "      <td>2016</td>\n",
       "    </tr>\n",
       "    <tr>\n",
       "      <th>4</th>\n",
       "      <td>10000015</td>\n",
       "      <td>Pink Cab</td>\n",
       "      <td>ATLANTA GA</td>\n",
       "      <td>8.73</td>\n",
       "      <td>114.62</td>\n",
       "      <td>97.776</td>\n",
       "      <td>814,885</td>\n",
       "      <td>24,701</td>\n",
       "      <td>27182</td>\n",
       "      <td>Male</td>\n",
       "      <td>33</td>\n",
       "      <td>8536</td>\n",
       "      <td>Card</td>\n",
       "      <td>1</td>\n",
       "      <td>2016</td>\n",
       "    </tr>\n",
       "  </tbody>\n",
       "</table>\n",
       "</div>"
      ],
      "text/plain": [
       "   Transaction ID   Company        City  KM Travelled  Price Charged  \\\n",
       "0        10000011  Pink Cab  ATLANTA GA         30.45         370.95   \n",
       "1        10000012  Pink Cab  ATLANTA GA         28.62         358.52   \n",
       "2        10000013  Pink Cab  ATLANTA GA          9.04         125.20   \n",
       "3        10000014  Pink Cab  ATLANTA GA         33.17         377.40   \n",
       "4        10000015  Pink Cab  ATLANTA GA          8.73         114.62   \n",
       "\n",
       "   Cost of Trip Population     Users  Customer ID Gender  Age  \\\n",
       "0       313.635   814,885    24,701         29290   Male   28   \n",
       "1       334.854   814,885    24,701         27703   Male   27   \n",
       "2        97.632   814,885    24,701         28712   Male   53   \n",
       "3       351.602   814,885    24,701         28020   Male   23   \n",
       "4        97.776   814,885    24,701         27182   Male   33   \n",
       "\n",
       "   Income (USD/Month) Payment_Mode  Month  Year  \n",
       "0               10813         Card      1  2016  \n",
       "1                9237         Card      1  2016  \n",
       "2               11242         Cash      1  2016  \n",
       "3               23327         Cash      1  2016  \n",
       "4                8536         Card      1  2016  "
      ]
     },
     "execution_count": 18,
     "metadata": {},
     "output_type": "execute_result"
    }
   ],
   "source": [
    "months=[]\n",
    "years =[]\n",
    "for i in range(len(new_csv['Date of Travel'])):\n",
    "    months.append(new_csv['Date of Travel'][i].month)\n",
    "    years.append(new_csv['Date of Travel'][i].year)\n",
    "new_csv['Month'] = months\n",
    "new_csv['Year'] = years\n",
    "\n",
    "new_csv.drop('Date of Travel', axis=1, inplace=True)\n",
    "\n",
    "new_csv.head()"
   ]
  },
  {
   "cell_type": "markdown",
   "id": "4e983253",
   "metadata": {},
   "source": [
    "## Now we will check which company had more profit"
   ]
  },
  {
   "cell_type": "code",
   "execution_count": 19,
   "id": "c5be00a2",
   "metadata": {},
   "outputs": [
    {
     "name": "stderr",
     "output_type": "stream",
     "text": [
      "C:\\Users\\zgrts\\anaconda3\\lib\\site-packages\\seaborn\\_decorators.py:36: FutureWarning: Pass the following variable as a keyword arg: x. From version 0.12, the only valid positional argument will be `data`, and passing other arguments without an explicit keyword will result in an error or misinterpretation.\n",
      "  warnings.warn(\n"
     ]
    },
    {
     "data": {
      "text/plain": [
       "<AxesSubplot:xlabel='Company', ylabel='count'>"
      ]
     },
     "execution_count": 19,
     "metadata": {},
     "output_type": "execute_result"
    },
    {
     "data": {
      "image/png": "[encoded data removed]",
      "text/plain": [
       "<Figure size 1080x432 with 1 Axes>"
      ]
     },
     "metadata": {
      "needs_background": "light"
     },
     "output_type": "display_data"
    }
   ],
   "source": [
    "plt.figure(figsize=(15,6))\n",
    "\n",
    "sns.countplot(new_csv.Company)"
   ]
  },
  {
   "cell_type": "markdown",
   "id": "0010c753",
   "metadata": {},
   "source": [
    "There are way too many yellow cabs compared to the pink cabs so, we have to find the profit using average method otherwise we will not get a healthy result"
   ]
  },
  {
   "cell_type": "code",
   "execution_count": 20,
   "id": "425fceb9",
   "metadata": {},
   "outputs": [],
   "source": [
    "new_csv['Profit'] = new_csv['Price Charged']-new_csv['Cost of Trip']"
   ]
  },
  {
   "cell_type": "code",
   "execution_count": 21,
   "id": "9beccb28",
   "metadata": {},
   "outputs": [
    {
     "name": "stdout",
     "output_type": "stream",
     "text": [
      "Company\n",
      "Pink Cab       62.652174\n",
      "Yellow Cab    160.259986\n",
      "dtype: float64\n"
     ]
    }
   ],
   "source": [
    "prc_charge = new_csv.groupby('Company')[['Price Charged']].mean()\n",
    "cost = new_csv.groupby('Company')[['Cost of Trip']].mean()\n",
    "\n",
    "profit = prc_charge['Price Charged'] - cost['Cost of Trip']\n",
    "print(profit)"
   ]
  },
  {
   "cell_type": "code",
   "execution_count": 22,
   "id": "98ed28ca",
   "metadata": {},
   "outputs": [
    {
     "data": {
      "text/plain": [
       "<BarContainer object of 2 artists>"
      ]
     },
     "execution_count": 22,
     "metadata": {},
     "output_type": "execute_result"
    },
    {
     "data": {
      "image/png": "[encoded data removed]",
      "text/plain": [
       "<Figure size 864x576 with 1 Axes>"
      ]
     },
     "metadata": {
      "needs_background": "light"
     },
     "output_type": "display_data"
    }
   ],
   "source": [
    "plt.figure(figsize=(12,8))\n",
    "\n",
    "plt.title('Average Profit of Each Company')\n",
    "plt.xlabel('Company')\n",
    "plt.ylabel('Profit')\n",
    "plt.bar(profit.index,profit,color='orange')"
   ]
  },
  {
   "cell_type": "markdown",
   "id": "44a235ce",
   "metadata": {},
   "source": [
    "We can see that the Yellow Cab company is approximately 2.5x times more profitable than the Pink Cab company"
   ]
  },
  {
   "cell_type": "markdown",
   "id": "e900af44",
   "metadata": {},
   "source": [
    "## City wise average profits from each cab company"
   ]
  },
  {
   "cell_type": "code",
   "execution_count": 23,
   "id": "5ccb5ffb",
   "metadata": {},
   "outputs": [
    {
     "data": {
      "text/html": [
       "<div>\n",
       "<style scoped>\n",
       "    .dataframe tbody tr th:only-of-type {\n",
       "        vertical-align: middle;\n",
       "    }\n",
       "\n",
       "    .dataframe tbody tr th {\n",
       "        vertical-align: top;\n",
       "    }\n",
       "\n",
       "    .dataframe thead th {\n",
       "        text-align: right;\n",
       "    }\n",
       "</style>\n",
       "<table border=\"1\" class=\"dataframe\">\n",
       "  <thead>\n",
       "    <tr style=\"text-align: right;\">\n",
       "      <th></th>\n",
       "      <th>Transaction ID</th>\n",
       "      <th>Company</th>\n",
       "      <th>City</th>\n",
       "      <th>KM Travelled</th>\n",
       "      <th>Price Charged</th>\n",
       "      <th>Cost of Trip</th>\n",
       "      <th>Population</th>\n",
       "      <th>Users</th>\n",
       "      <th>Customer ID</th>\n",
       "      <th>Gender</th>\n",
       "      <th>Age</th>\n",
       "      <th>Income (USD/Month)</th>\n",
       "      <th>Payment_Mode</th>\n",
       "      <th>Month</th>\n",
       "      <th>Year</th>\n",
       "      <th>Profit</th>\n",
       "    </tr>\n",
       "  </thead>\n",
       "  <tbody>\n",
       "    <tr>\n",
       "      <th>0</th>\n",
       "      <td>10000011</td>\n",
       "      <td>Pink Cab</td>\n",
       "      <td>ATLANTA GA</td>\n",
       "      <td>30.45</td>\n",
       "      <td>370.95</td>\n",
       "      <td>313.635</td>\n",
       "      <td>814,885</td>\n",
       "      <td>24,701</td>\n",
       "      <td>29290</td>\n",
       "      <td>Male</td>\n",
       "      <td>28</td>\n",
       "      <td>10813</td>\n",
       "      <td>Card</td>\n",
       "      <td>1</td>\n",
       "      <td>2016</td>\n",
       "      <td>57.315</td>\n",
       "    </tr>\n",
       "    <tr>\n",
       "      <th>1</th>\n",
       "      <td>10000012</td>\n",
       "      <td>Pink Cab</td>\n",
       "      <td>ATLANTA GA</td>\n",
       "      <td>28.62</td>\n",
       "      <td>358.52</td>\n",
       "      <td>334.854</td>\n",
       "      <td>814,885</td>\n",
       "      <td>24,701</td>\n",
       "      <td>27703</td>\n",
       "      <td>Male</td>\n",
       "      <td>27</td>\n",
       "      <td>9237</td>\n",
       "      <td>Card</td>\n",
       "      <td>1</td>\n",
       "      <td>2016</td>\n",
       "      <td>23.666</td>\n",
       "    </tr>\n",
       "    <tr>\n",
       "      <th>2</th>\n",
       "      <td>10000013</td>\n",
       "      <td>Pink Cab</td>\n",
       "      <td>ATLANTA GA</td>\n",
       "      <td>9.04</td>\n",
       "      <td>125.20</td>\n",
       "      <td>97.632</td>\n",
       "      <td>814,885</td>\n",
       "      <td>24,701</td>\n",
       "      <td>28712</td>\n",
       "      <td>Male</td>\n",
       "      <td>53</td>\n",
       "      <td>11242</td>\n",
       "      <td>Cash</td>\n",
       "      <td>1</td>\n",
       "      <td>2016</td>\n",
       "      <td>27.568</td>\n",
       "    </tr>\n",
       "    <tr>\n",
       "      <th>3</th>\n",
       "      <td>10000014</td>\n",
       "      <td>Pink Cab</td>\n",
       "      <td>ATLANTA GA</td>\n",
       "      <td>33.17</td>\n",
       "      <td>377.40</td>\n",
       "      <td>351.602</td>\n",
       "      <td>814,885</td>\n",
       "      <td>24,701</td>\n",
       "      <td>28020</td>\n",
       "      <td>Male</td>\n",
       "      <td>23</td>\n",
       "      <td>23327</td>\n",
       "      <td>Cash</td>\n",
       "      <td>1</td>\n",
       "      <td>2016</td>\n",
       "      <td>25.798</td>\n",
       "    </tr>\n",
       "    <tr>\n",
       "      <th>4</th>\n",
       "      <td>10000015</td>\n",
       "      <td>Pink Cab</td>\n",
       "      <td>ATLANTA GA</td>\n",
       "      <td>8.73</td>\n",
       "      <td>114.62</td>\n",
       "      <td>97.776</td>\n",
       "      <td>814,885</td>\n",
       "      <td>24,701</td>\n",
       "      <td>27182</td>\n",
       "      <td>Male</td>\n",
       "      <td>33</td>\n",
       "      <td>8536</td>\n",
       "      <td>Card</td>\n",
       "      <td>1</td>\n",
       "      <td>2016</td>\n",
       "      <td>16.844</td>\n",
       "    </tr>\n",
       "  </tbody>\n",
       "</table>\n",
       "</div>"
      ],
      "text/plain": [
       "   Transaction ID   Company        City  KM Travelled  Price Charged  \\\n",
       "0        10000011  Pink Cab  ATLANTA GA         30.45         370.95   \n",
       "1        10000012  Pink Cab  ATLANTA GA         28.62         358.52   \n",
       "2        10000013  Pink Cab  ATLANTA GA          9.04         125.20   \n",
       "3        10000014  Pink Cab  ATLANTA GA         33.17         377.40   \n",
       "4        10000015  Pink Cab  ATLANTA GA          8.73         114.62   \n",
       "\n",
       "   Cost of Trip Population     Users  Customer ID Gender  Age  \\\n",
       "0       313.635   814,885    24,701         29290   Male   28   \n",
       "1       334.854   814,885    24,701         27703   Male   27   \n",
       "2        97.632   814,885    24,701         28712   Male   53   \n",
       "3       351.602   814,885    24,701         28020   Male   23   \n",
       "4        97.776   814,885    24,701         27182   Male   33   \n",
       "\n",
       "   Income (USD/Month) Payment_Mode  Month  Year  Profit  \n",
       "0               10813         Card      1  2016  57.315  \n",
       "1                9237         Card      1  2016  23.666  \n",
       "2               11242         Cash      1  2016  27.568  \n",
       "3               23327         Cash      1  2016  25.798  \n",
       "4                8536         Card      1  2016  16.844  "
      ]
     },
     "execution_count": 23,
     "metadata": {},
     "output_type": "execute_result"
    }
   ],
   "source": [
    "new_csv.head()"
   ]
  },
  {
   "cell_type": "code",
   "execution_count": 24,
   "id": "ddc0ce30",
   "metadata": {},
   "outputs": [
    {
     "name": "stdout",
     "output_type": "stream",
     "text": [
      "City\n",
      "ATLANTA GA        128.797723\n",
      "AUSTIN TX         125.249582\n",
      "BOSTON MA          61.483619\n",
      "CHICAGO IL         64.924486\n",
      "DALLAS TX         195.849415\n",
      "DENVER CO         146.853175\n",
      "LOS ANGELES CA    116.656368\n",
      "MIAMI FL          133.872429\n",
      "NASHVILLE TN       72.923597\n",
      "NEW YORK NY       307.864252\n",
      "ORANGE COUNTY     143.785355\n",
      "PHOENIX AZ        131.120407\n",
      "PITTSBURGH PA     107.857716\n",
      "SACRAMENTO CA      60.021471\n",
      "SAN DIEGO CA       96.706775\n",
      "SEATTLE WA         93.428968\n",
      "SILICON VALLEY    206.788383\n",
      "TUCSON AZ          71.529258\n",
      "WASHINGTON DC      82.384912\n",
      "dtype: float64\n",
      "City\n",
      "ATLANTA GA         54.511961\n",
      "AUSTIN TX          78.932168\n",
      "BOSTON MA          50.520960\n",
      "CHICAGO IL         34.047910\n",
      "DALLAS TX          17.920371\n",
      "DENVER CO          29.114016\n",
      "LOS ANGELES CA     56.669120\n",
      "MIAMI FL           81.069526\n",
      "NASHVILLE TN       34.918269\n",
      "NEW YORK NY       108.217540\n",
      "ORANGE COUNTY      67.412976\n",
      "PHOENIX AZ         41.199530\n",
      "PITTSBURGH PA      25.084660\n",
      "SACRAMENTO CA      41.472273\n",
      "SAN DIEGO CA       59.772280\n",
      "SEATTLE WA         41.281601\n",
      "SILICON VALLEY     89.610358\n",
      "TUCSON AZ          74.204725\n",
      "WASHINGTON DC      52.482761\n",
      "dtype: float64\n"
     ]
    }
   ],
   "source": [
    "temp_csv1 = new_csv.loc[new_csv['Company']=='Yellow Cab']\n",
    "temp_csv2 = new_csv.loc[new_csv['Company']=='Pink Cab']\n",
    "\n",
    "prc_charge = temp_csv1.groupby('City')[['Price Charged']].mean()\n",
    "cost = temp_csv1.groupby('City')[['Cost of Trip']].mean()\n",
    "\n",
    "prc_charge2 = temp_csv2.groupby('City')[['Price Charged']].mean()\n",
    "cost2 = temp_csv2.groupby('City')[['Cost of Trip']].mean()\n",
    "\n",
    "profit = prc_charge['Price Charged'] - cost['Cost of Trip']\n",
    "profit2 = prc_charge2['Price Charged'] - cost2['Cost of Trip']\n",
    "\n",
    "print(profit)\n",
    "print(profit2)"
   ]
  },
  {
   "cell_type": "code",
   "execution_count": 25,
   "id": "da8f5630",
   "metadata": {},
   "outputs": [
    {
     "data": {
      "text/plain": [
       "<matplotlib.legend.Legend at 0x1e529f9aa30>"
      ]
     },
     "execution_count": 25,
     "metadata": {},
     "output_type": "execute_result"
    },
    {
     "data": {
      "image/png": "[encoded data removed]",
      "text/plain": [
       "<Figure size 864x576 with 1 Axes>"
      ]
     },
     "metadata": {
      "needs_background": "light"
     },
     "output_type": "display_data"
    }
   ],
   "source": [
    "plt.figure(figsize=(12,8))\n",
    "\n",
    "plt.title('Average Profit of Each Company Citywise')\n",
    "plt.xlabel('Cities')\n",
    "plt.ylabel('Profit')\n",
    "plt.xticks(rotation=90)\n",
    "plt.bar(profit.index,profit,color='yellow')\n",
    "plt.bar(profit2.index,profit2,color='pink')\n",
    "plt.legend(['Yellow Cab','Pink Cab'])"
   ]
  },
  {
   "cell_type": "markdown",
   "id": "ddbde41a",
   "metadata": {},
   "source": [
    "With looking at this graph, we can come to a conclusion that the Yellow Cab company beats the Pink Cab company profit wise. In addition to that, we can also see that New York and Silicon Valley are two of the best cities that provides the companies with profit."
   ]
  },
  {
   "cell_type": "markdown",
   "id": "e8b560e9",
   "metadata": {},
   "source": [
    "# Average Profit Per KM"
   ]
  },
  {
   "cell_type": "code",
   "execution_count": 26,
   "id": "d9e813d7",
   "metadata": {},
   "outputs": [
    {
     "data": {
      "text/html": [
       "<div>\n",
       "<style scoped>\n",
       "    .dataframe tbody tr th:only-of-type {\n",
       "        vertical-align: middle;\n",
       "    }\n",
       "\n",
       "    .dataframe tbody tr th {\n",
       "        vertical-align: top;\n",
       "    }\n",
       "\n",
       "    .dataframe thead th {\n",
       "        text-align: right;\n",
       "    }\n",
       "</style>\n",
       "<table border=\"1\" class=\"dataframe\">\n",
       "  <thead>\n",
       "    <tr style=\"text-align: right;\">\n",
       "      <th></th>\n",
       "      <th>Transaction ID</th>\n",
       "      <th>Company</th>\n",
       "      <th>City</th>\n",
       "      <th>KM Travelled</th>\n",
       "      <th>Price Charged</th>\n",
       "      <th>Cost of Trip</th>\n",
       "      <th>Population</th>\n",
       "      <th>Users</th>\n",
       "      <th>Customer ID</th>\n",
       "      <th>Gender</th>\n",
       "      <th>Age</th>\n",
       "      <th>Income (USD/Month)</th>\n",
       "      <th>Payment_Mode</th>\n",
       "      <th>Month</th>\n",
       "      <th>Year</th>\n",
       "      <th>Profit</th>\n",
       "      <th>ProfitPerKm</th>\n",
       "    </tr>\n",
       "  </thead>\n",
       "  <tbody>\n",
       "    <tr>\n",
       "      <th>0</th>\n",
       "      <td>10000011</td>\n",
       "      <td>Pink Cab</td>\n",
       "      <td>ATLANTA GA</td>\n",
       "      <td>30.45</td>\n",
       "      <td>370.95</td>\n",
       "      <td>313.635</td>\n",
       "      <td>814,885</td>\n",
       "      <td>24,701</td>\n",
       "      <td>29290</td>\n",
       "      <td>Male</td>\n",
       "      <td>28</td>\n",
       "      <td>10813</td>\n",
       "      <td>Card</td>\n",
       "      <td>1</td>\n",
       "      <td>2016</td>\n",
       "      <td>57.315</td>\n",
       "      <td>1.882266</td>\n",
       "    </tr>\n",
       "    <tr>\n",
       "      <th>1</th>\n",
       "      <td>10000012</td>\n",
       "      <td>Pink Cab</td>\n",
       "      <td>ATLANTA GA</td>\n",
       "      <td>28.62</td>\n",
       "      <td>358.52</td>\n",
       "      <td>334.854</td>\n",
       "      <td>814,885</td>\n",
       "      <td>24,701</td>\n",
       "      <td>27703</td>\n",
       "      <td>Male</td>\n",
       "      <td>27</td>\n",
       "      <td>9237</td>\n",
       "      <td>Card</td>\n",
       "      <td>1</td>\n",
       "      <td>2016</td>\n",
       "      <td>23.666</td>\n",
       "      <td>0.826904</td>\n",
       "    </tr>\n",
       "    <tr>\n",
       "      <th>2</th>\n",
       "      <td>10000013</td>\n",
       "      <td>Pink Cab</td>\n",
       "      <td>ATLANTA GA</td>\n",
       "      <td>9.04</td>\n",
       "      <td>125.20</td>\n",
       "      <td>97.632</td>\n",
       "      <td>814,885</td>\n",
       "      <td>24,701</td>\n",
       "      <td>28712</td>\n",
       "      <td>Male</td>\n",
       "      <td>53</td>\n",
       "      <td>11242</td>\n",
       "      <td>Cash</td>\n",
       "      <td>1</td>\n",
       "      <td>2016</td>\n",
       "      <td>27.568</td>\n",
       "      <td>3.049558</td>\n",
       "    </tr>\n",
       "    <tr>\n",
       "      <th>3</th>\n",
       "      <td>10000014</td>\n",
       "      <td>Pink Cab</td>\n",
       "      <td>ATLANTA GA</td>\n",
       "      <td>33.17</td>\n",
       "      <td>377.40</td>\n",
       "      <td>351.602</td>\n",
       "      <td>814,885</td>\n",
       "      <td>24,701</td>\n",
       "      <td>28020</td>\n",
       "      <td>Male</td>\n",
       "      <td>23</td>\n",
       "      <td>23327</td>\n",
       "      <td>Cash</td>\n",
       "      <td>1</td>\n",
       "      <td>2016</td>\n",
       "      <td>25.798</td>\n",
       "      <td>0.777751</td>\n",
       "    </tr>\n",
       "    <tr>\n",
       "      <th>4</th>\n",
       "      <td>10000015</td>\n",
       "      <td>Pink Cab</td>\n",
       "      <td>ATLANTA GA</td>\n",
       "      <td>8.73</td>\n",
       "      <td>114.62</td>\n",
       "      <td>97.776</td>\n",
       "      <td>814,885</td>\n",
       "      <td>24,701</td>\n",
       "      <td>27182</td>\n",
       "      <td>Male</td>\n",
       "      <td>33</td>\n",
       "      <td>8536</td>\n",
       "      <td>Card</td>\n",
       "      <td>1</td>\n",
       "      <td>2016</td>\n",
       "      <td>16.844</td>\n",
       "      <td>1.929439</td>\n",
       "    </tr>\n",
       "  </tbody>\n",
       "</table>\n",
       "</div>"
      ],
      "text/plain": [
       "   Transaction ID   Company        City  KM Travelled  Price Charged  \\\n",
       "0        10000011  Pink Cab  ATLANTA GA         30.45         370.95   \n",
       "1        10000012  Pink Cab  ATLANTA GA         28.62         358.52   \n",
       "2        10000013  Pink Cab  ATLANTA GA          9.04         125.20   \n",
       "3        10000014  Pink Cab  ATLANTA GA         33.17         377.40   \n",
       "4        10000015  Pink Cab  ATLANTA GA          8.73         114.62   \n",
       "\n",
       "   Cost of Trip Population     Users  Customer ID Gender  Age  \\\n",
       "0       313.635   814,885    24,701         29290   Male   28   \n",
       "1       334.854   814,885    24,701         27703   Male   27   \n",
       "2        97.632   814,885    24,701         28712   Male   53   \n",
       "3       351.602   814,885    24,701         28020   Male   23   \n",
       "4        97.776   814,885    24,701         27182   Male   33   \n",
       "\n",
       "   Income (USD/Month) Payment_Mode  Month  Year  Profit  ProfitPerKm  \n",
       "0               10813         Card      1  2016  57.315     1.882266  \n",
       "1                9237         Card      1  2016  23.666     0.826904  \n",
       "2               11242         Cash      1  2016  27.568     3.049558  \n",
       "3               23327         Cash      1  2016  25.798     0.777751  \n",
       "4                8536         Card      1  2016  16.844     1.929439  "
      ]
     },
     "execution_count": 26,
     "metadata": {},
     "output_type": "execute_result"
    }
   ],
   "source": [
    "new_csv['ProfitPerKm'] = (new_csv['Price Charged']-new_csv['Cost of Trip'])/(new_csv['KM Travelled'])\n",
    "new_csv.head()"
   ]
  },
  {
   "cell_type": "code",
   "execution_count": 27,
   "id": "9c118ffe",
   "metadata": {},
   "outputs": [
    {
     "name": "stdout",
     "output_type": "stream",
     "text": [
      "Company\n",
      "Pink Cab      2.769908\n",
      "Yellow Cab    7.105508\n",
      "Name: ProfitPerKm, dtype: float64\n"
     ]
    }
   ],
   "source": [
    "tempX = new_csv.groupby('Company')[['ProfitPerKm']].mean()\n",
    "print(tempX.ProfitPerKm)"
   ]
  },
  {
   "cell_type": "code",
   "execution_count": 28,
   "id": "335af6ea",
   "metadata": {},
   "outputs": [
    {
     "data": {
      "text/plain": [
       "<BarContainer object of 2 artists>"
      ]
     },
     "execution_count": 28,
     "metadata": {},
     "output_type": "execute_result"
    },
    {
     "data": {
      "image/png": "[encoded data removed]",
      "text/plain": [
       "<Figure size 864x576 with 1 Axes>"
      ]
     },
     "metadata": {
      "needs_background": "light"
     },
     "output_type": "display_data"
    }
   ],
   "source": [
    "plt.figure(figsize=(12,8))\n",
    "\n",
    "plt.title('Average Profit Per KM')\n",
    "plt.xlabel('Company')\n",
    "plt.ylabel('Average Profit')\n",
    "plt.bar(tempX.index,tempX.ProfitPerKm,color='red')"
   ]
  },
  {
   "cell_type": "markdown",
   "id": "b2566049",
   "metadata": {},
   "source": [
    "## Agewise analysis"
   ]
  },
  {
   "cell_type": "code",
   "execution_count": 29,
   "id": "2ae0ded2",
   "metadata": {},
   "outputs": [
    {
     "name": "stdout",
     "output_type": "stream",
     "text": [
      "Number of NaN values present in Age column: 0\n"
     ]
    }
   ],
   "source": [
    "print('Number of NaN values present in Age column: '+str(new_csv.Age.isnull().sum()))"
   ]
  },
  {
   "cell_type": "code",
   "execution_count": 30,
   "id": "cb0afdea",
   "metadata": {},
   "outputs": [],
   "source": [
    "temp_csv1 = new_csv.loc[new_csv['Company']=='Yellow Cab']\n",
    "temp_csv2 = new_csv.loc[new_csv['Company']=='Pink Cab']\n",
    "\n",
    "prc_charge = temp_csv1.groupby('Age')[['Price Charged']].mean()\n",
    "cost = temp_csv1.groupby('Age')[['Cost of Trip']].mean()\n",
    "\n",
    "prc_charge2 = temp_csv2.groupby('Age')[['Price Charged']].mean()\n",
    "cost2 = temp_csv2.groupby('Age')[['Cost of Trip']].mean()\n",
    "\n",
    "profit = prc_charge['Price Charged'] - cost['Cost of Trip']\n",
    "profit2 = prc_charge2['Price Charged'] - cost2['Cost of Trip']"
   ]
  },
  {
   "cell_type": "code",
   "execution_count": 31,
   "id": "e0a6f5e0",
   "metadata": {},
   "outputs": [
    {
     "data": {
      "text/plain": [
       "<matplotlib.legend.Legend at 0x1e52dd34d30>"
      ]
     },
     "execution_count": 31,
     "metadata": {},
     "output_type": "execute_result"
    },
    {
     "data": {
      "image/png": "[encoded data removed]",
      "text/plain": [
       "<Figure size 864x576 with 1 Axes>"
      ]
     },
     "metadata": {
      "needs_background": "light"
     },
     "output_type": "display_data"
    }
   ],
   "source": [
    "plt.figure(figsize=(12,8))\n",
    "\n",
    "plt.title('Average Profit of Each Company Agewise')\n",
    "plt.xlabel('Age')\n",
    "plt.ylabel('Profit')\n",
    "plt.bar(profit.index,profit,color='yellow')\n",
    "plt.bar(profit2.index,profit2,color='pink')\n",
    "plt.legend(['Yellow Cab','Pink Cab'])"
   ]
  },
  {
   "cell_type": "markdown",
   "id": "ca15b7a0",
   "metadata": {},
   "source": [
    "We can see that age does not really affect the profits if the person is not extremely old. We already knew that Yellow Cab company had more profit but we have made the inference that the age is not a big factor that contributes in the profit."
   ]
  },
  {
   "cell_type": "code",
   "execution_count": 68,
   "id": "b50b1214",
   "metadata": {},
   "outputs": [
    {
     "data": {
      "text/html": [
       "<div>\n",
       "<style scoped>\n",
       "    .dataframe tbody tr th:only-of-type {\n",
       "        vertical-align: middle;\n",
       "    }\n",
       "\n",
       "    .dataframe tbody tr th {\n",
       "        vertical-align: top;\n",
       "    }\n",
       "\n",
       "    .dataframe thead th {\n",
       "        text-align: right;\n",
       "    }\n",
       "</style>\n",
       "<table border=\"1\" class=\"dataframe\">\n",
       "  <thead>\n",
       "    <tr style=\"text-align: right;\">\n",
       "      <th></th>\n",
       "      <th>Transaction ID</th>\n",
       "      <th>Company</th>\n",
       "      <th>City</th>\n",
       "      <th>KM Travelled</th>\n",
       "      <th>Price Charged</th>\n",
       "      <th>Cost of Trip</th>\n",
       "      <th>Population</th>\n",
       "      <th>Users</th>\n",
       "      <th>Customer ID</th>\n",
       "      <th>Gender</th>\n",
       "      <th>Age</th>\n",
       "      <th>Income (USD/Month)</th>\n",
       "      <th>Payment_Mode</th>\n",
       "      <th>Month</th>\n",
       "      <th>Year</th>\n",
       "      <th>Profit</th>\n",
       "      <th>ProfitPerKm</th>\n",
       "      <th>Season</th>\n",
       "      <th>Income Status</th>\n",
       "      <th>Age Range</th>\n",
       "    </tr>\n",
       "  </thead>\n",
       "  <tbody>\n",
       "    <tr>\n",
       "      <th>0</th>\n",
       "      <td>10000011</td>\n",
       "      <td>Pink Cab</td>\n",
       "      <td>ATLANTA GA</td>\n",
       "      <td>30.45</td>\n",
       "      <td>370.95</td>\n",
       "      <td>313.635</td>\n",
       "      <td>814,885</td>\n",
       "      <td>24,701</td>\n",
       "      <td>29290</td>\n",
       "      <td>Male</td>\n",
       "      <td>28</td>\n",
       "      <td>10813</td>\n",
       "      <td>Card</td>\n",
       "      <td>1</td>\n",
       "      <td>2016</td>\n",
       "      <td>57.315</td>\n",
       "      <td>1.882266</td>\n",
       "      <td>Winter</td>\n",
       "      <td>wealthy</td>\n",
       "      <td>young</td>\n",
       "    </tr>\n",
       "    <tr>\n",
       "      <th>1</th>\n",
       "      <td>10000012</td>\n",
       "      <td>Pink Cab</td>\n",
       "      <td>ATLANTA GA</td>\n",
       "      <td>28.62</td>\n",
       "      <td>358.52</td>\n",
       "      <td>334.854</td>\n",
       "      <td>814,885</td>\n",
       "      <td>24,701</td>\n",
       "      <td>27703</td>\n",
       "      <td>Male</td>\n",
       "      <td>27</td>\n",
       "      <td>9237</td>\n",
       "      <td>Card</td>\n",
       "      <td>1</td>\n",
       "      <td>2016</td>\n",
       "      <td>23.666</td>\n",
       "      <td>0.826904</td>\n",
       "      <td>Winter</td>\n",
       "      <td>wealthy</td>\n",
       "      <td>young</td>\n",
       "    </tr>\n",
       "    <tr>\n",
       "      <th>2</th>\n",
       "      <td>10000013</td>\n",
       "      <td>Pink Cab</td>\n",
       "      <td>ATLANTA GA</td>\n",
       "      <td>9.04</td>\n",
       "      <td>125.20</td>\n",
       "      <td>97.632</td>\n",
       "      <td>814,885</td>\n",
       "      <td>24,701</td>\n",
       "      <td>28712</td>\n",
       "      <td>Male</td>\n",
       "      <td>53</td>\n",
       "      <td>11242</td>\n",
       "      <td>Cash</td>\n",
       "      <td>1</td>\n",
       "      <td>2016</td>\n",
       "      <td>27.568</td>\n",
       "      <td>3.049558</td>\n",
       "      <td>Winter</td>\n",
       "      <td>wealthy</td>\n",
       "      <td>old</td>\n",
       "    </tr>\n",
       "    <tr>\n",
       "      <th>3</th>\n",
       "      <td>10000014</td>\n",
       "      <td>Pink Cab</td>\n",
       "      <td>ATLANTA GA</td>\n",
       "      <td>33.17</td>\n",
       "      <td>377.40</td>\n",
       "      <td>351.602</td>\n",
       "      <td>814,885</td>\n",
       "      <td>24,701</td>\n",
       "      <td>28020</td>\n",
       "      <td>Male</td>\n",
       "      <td>23</td>\n",
       "      <td>23327</td>\n",
       "      <td>Cash</td>\n",
       "      <td>1</td>\n",
       "      <td>2016</td>\n",
       "      <td>25.798</td>\n",
       "      <td>0.777751</td>\n",
       "      <td>Winter</td>\n",
       "      <td>wealthy</td>\n",
       "      <td>young</td>\n",
       "    </tr>\n",
       "    <tr>\n",
       "      <th>4</th>\n",
       "      <td>10000015</td>\n",
       "      <td>Pink Cab</td>\n",
       "      <td>ATLANTA GA</td>\n",
       "      <td>8.73</td>\n",
       "      <td>114.62</td>\n",
       "      <td>97.776</td>\n",
       "      <td>814,885</td>\n",
       "      <td>24,701</td>\n",
       "      <td>27182</td>\n",
       "      <td>Male</td>\n",
       "      <td>33</td>\n",
       "      <td>8536</td>\n",
       "      <td>Card</td>\n",
       "      <td>1</td>\n",
       "      <td>2016</td>\n",
       "      <td>16.844</td>\n",
       "      <td>1.929439</td>\n",
       "      <td>Winter</td>\n",
       "      <td>wealthy</td>\n",
       "      <td>middle aged</td>\n",
       "    </tr>\n",
       "  </tbody>\n",
       "</table>\n",
       "</div>"
      ],
      "text/plain": [
       "   Transaction ID   Company        City  KM Travelled  Price Charged  \\\n",
       "0        10000011  Pink Cab  ATLANTA GA         30.45         370.95   \n",
       "1        10000012  Pink Cab  ATLANTA GA         28.62         358.52   \n",
       "2        10000013  Pink Cab  ATLANTA GA          9.04         125.20   \n",
       "3        10000014  Pink Cab  ATLANTA GA         33.17         377.40   \n",
       "4        10000015  Pink Cab  ATLANTA GA          8.73         114.62   \n",
       "\n",
       "   Cost of Trip Population     Users  Customer ID Gender  Age  \\\n",
       "0       313.635   814,885    24,701         29290   Male   28   \n",
       "1       334.854   814,885    24,701         27703   Male   27   \n",
       "2        97.632   814,885    24,701         28712   Male   53   \n",
       "3       351.602   814,885    24,701         28020   Male   23   \n",
       "4        97.776   814,885    24,701         27182   Male   33   \n",
       "\n",
       "   Income (USD/Month) Payment_Mode  Month  Year  Profit  ProfitPerKm  Season  \\\n",
       "0               10813         Card      1  2016  57.315     1.882266  Winter   \n",
       "1                9237         Card      1  2016  23.666     0.826904  Winter   \n",
       "2               11242         Cash      1  2016  27.568     3.049558  Winter   \n",
       "3               23327         Cash      1  2016  25.798     0.777751  Winter   \n",
       "4                8536         Card      1  2016  16.844     1.929439  Winter   \n",
       "\n",
       "  Income Status    Age Range  \n",
       "0       wealthy        young  \n",
       "1       wealthy        young  \n",
       "2       wealthy          old  \n",
       "3       wealthy        young  \n",
       "4       wealthy  middle aged  "
      ]
     },
     "execution_count": 68,
     "metadata": {},
     "output_type": "execute_result"
    }
   ],
   "source": [
    "bins=[18,29,40,69]\n",
    "labels = ['young','middle aged','old']\n",
    "\n",
    "new_csv['Age Range'] = pd.cut(new_csv.Age,bins=bins,labels=labels)\n",
    "new_csv.head()"
   ]
  },
  {
   "cell_type": "code",
   "execution_count": 78,
   "id": "efb310f9",
   "metadata": {},
   "outputs": [
    {
     "data": {
      "text/html": [
       "<div>\n",
       "<style scoped>\n",
       "    .dataframe tbody tr th:only-of-type {\n",
       "        vertical-align: middle;\n",
       "    }\n",
       "\n",
       "    .dataframe tbody tr th {\n",
       "        vertical-align: top;\n",
       "    }\n",
       "\n",
       "    .dataframe thead th {\n",
       "        text-align: right;\n",
       "    }\n",
       "</style>\n",
       "<table border=\"1\" class=\"dataframe\">\n",
       "  <thead>\n",
       "    <tr style=\"text-align: right;\">\n",
       "      <th></th>\n",
       "      <th>Transaction ID</th>\n",
       "    </tr>\n",
       "    <tr>\n",
       "      <th>Age Range</th>\n",
       "      <th></th>\n",
       "    </tr>\n",
       "  </thead>\n",
       "  <tbody>\n",
       "    <tr>\n",
       "      <th>young</th>\n",
       "      <td>128021</td>\n",
       "    </tr>\n",
       "    <tr>\n",
       "      <th>middle aged</th>\n",
       "      <td>124271</td>\n",
       "    </tr>\n",
       "    <tr>\n",
       "      <th>old</th>\n",
       "      <td>96254</td>\n",
       "    </tr>\n",
       "  </tbody>\n",
       "</table>\n",
       "</div>"
      ],
      "text/plain": [
       "             Transaction ID\n",
       "Age Range                  \n",
       "young                128021\n",
       "middle aged          124271\n",
       "old                   96254"
      ]
     },
     "execution_count": 78,
     "metadata": {},
     "output_type": "execute_result"
    }
   ],
   "source": [
    "temp = new_csv.groupby('Age Range')[['Transaction ID']].count()\n",
    "\n",
    "temp.head()"
   ]
  },
  {
   "cell_type": "code",
   "execution_count": 89,
   "id": "3f4dc6ef",
   "metadata": {},
   "outputs": [
    {
     "data": {
      "text/plain": [
       "([<matplotlib.patches.Wedge at 0x1e53a650940>,\n",
       "  <matplotlib.patches.Wedge at 0x1e53a65df40>,\n",
       "  <matplotlib.patches.Wedge at 0x1e53a66f6a0>],\n",
       " [Text(0.46565540265963234, 1.0515060846109716, 'young'),\n",
       "  Text(-1.1031800754749743, -0.32479796962886043, 'middle aged'),\n",
       "  Text(0.7436772205090605, -0.8771796803938853, 'old')],\n",
       " [Text(0.22270475779373722, 0.5028942143791603, '36.7%'),\n",
       "  Text(-0.5276078621836834, -0.15533815938771584, '35.7%'),\n",
       "  Text(0.3556717141565071, -0.41952071671011903, '27.6%')])"
      ]
     },
     "execution_count": 89,
     "metadata": {},
     "output_type": "execute_result"
    },
    {
     "data": {
      "image/png": "[encoded data removed]",
      "text/plain": [
       "<Figure size 720x432 with 1 Axes>"
      ]
     },
     "metadata": {},
     "output_type": "display_data"
    }
   ],
   "source": [
    "pie, ax = plt.subplots(figsize=[10,6])\n",
    "\n",
    "labels = temp.index\n",
    "plt.pie(x=temp['Transaction ID'],autopct=\"%.1f%%\",labels=labels,explode=(0.05,0.05,0.05), pctdistance=0.5)"
   ]
  },
  {
   "cell_type": "markdown",
   "id": "5b3d9e37",
   "metadata": {},
   "source": [
    "## Inference:"
   ]
  },
  {
   "cell_type": "markdown",
   "id": "73c03bff",
   "metadata": {},
   "source": [
    "We can see that mostly young aged and middle aged customers take the drive while young customers count are more.Also, old people are taking the drive less than others."
   ]
  },
  {
   "cell_type": "markdown",
   "id": "99653cbf",
   "metadata": {},
   "source": [
    "## Let's examine how the number of drives change on certain season of the year"
   ]
  },
  {
   "cell_type": "code",
   "execution_count": 32,
   "id": "0c91fb2d",
   "metadata": {},
   "outputs": [],
   "source": [
    "Season = []\n",
    "\n",
    "def findSeason(index):\n",
    "    if new_csv.Month[index] == 1 or new_csv.Month[index] == 2 or new_csv.Month[index] == 12:\n",
    "        Season.append('Winter')\n",
    "    elif new_csv.Month[index] == 3 or new_csv.Month[index] == 4 or new_csv.Month[index] == 5:\n",
    "        Season.append('Spring')\n",
    "    elif new_csv.Month[index] == 6 or new_csv.Month[index] == 7 or new_csv.Month[index] == 8:\n",
    "        Season.append('Summer')\n",
    "    else:\n",
    "        Season.append('Fall')\n",
    "\n",
    "for i in range(len(new_csv.Month)):\n",
    "    findSeason(i)\n",
    "\n",
    "new_csv['Season'] = Season"
   ]
  },
  {
   "cell_type": "code",
   "execution_count": 33,
   "id": "d0482b5c",
   "metadata": {},
   "outputs": [
    {
     "name": "stderr",
     "output_type": "stream",
     "text": [
      "C:\\Users\\zgrts\\anaconda3\\lib\\site-packages\\seaborn\\_decorators.py:36: FutureWarning: Pass the following variable as a keyword arg: x. From version 0.12, the only valid positional argument will be `data`, and passing other arguments without an explicit keyword will result in an error or misinterpretation.\n",
      "  warnings.warn(\n",
      "C:\\Users\\zgrts\\anaconda3\\lib\\site-packages\\seaborn\\_decorators.py:36: FutureWarning: Pass the following variable as a keyword arg: x. From version 0.12, the only valid positional argument will be `data`, and passing other arguments without an explicit keyword will result in an error or misinterpretation.\n",
      "  warnings.warn(\n"
     ]
    },
    {
     "data": {
      "text/plain": [
       "<AxesSubplot:title={'center':'Pink Cab Company Season Comparison'}, xlabel='Season', ylabel='count'>"
      ]
     },
     "execution_count": 33,
     "metadata": {},
     "output_type": "execute_result"
    },
    {
     "data": {
      "image/png": "[encoded data removed]",
      "text/plain": [
       "<Figure size 864x576 with 2 Axes>"
      ]
     },
     "metadata": {
      "needs_background": "light"
     },
     "output_type": "display_data"
    }
   ],
   "source": [
    "temp_csv1 = new_csv.loc[new_csv['Company']=='Yellow Cab']\n",
    "temp_csv2 = new_csv.loc[new_csv['Company']=='Pink Cab']\n",
    "\n",
    "#sirkete gore ayir sonra hangi sezonda ne kadar sefer yazilmis countunu bul.\n",
    "plt.figure(figsize=(12,8))\n",
    "\n",
    "plt.subplot(1,2,1)\n",
    "plt.title('Yellow Cab Company Season Comparison')\n",
    "sns.countplot(temp_csv1.Season)\n",
    "\n",
    "plt.subplot(1,2,2)\n",
    "plt.title('Pink Cab Company Season Comparison')\n",
    "sns.countplot(temp_csv2.Season)"
   ]
  },
  {
   "cell_type": "markdown",
   "id": "b91f40b3",
   "metadata": {},
   "source": [
    "## Inference"
   ]
  },
  {
   "cell_type": "markdown",
   "id": "7e163bb0",
   "metadata": {},
   "source": [
    "We can see that in two of the companies Fall season is the most active season in terms of cab users. Also we can see that Spring season is the least active season."
   ]
  },
  {
   "cell_type": "markdown",
   "id": "954f5b27",
   "metadata": {},
   "source": [
    "## Companies profit changes throughout years"
   ]
  },
  {
   "cell_type": "code",
   "execution_count": 34,
   "id": "d6cd70c8",
   "metadata": {},
   "outputs": [
    {
     "name": "stdout",
     "output_type": "stream",
     "text": [
      "Year\n",
      "2016    169.693701\n",
      "2017    168.416894\n",
      "2018    143.450759\n",
      "dtype: float64 Year\n",
      "2016    68.810861\n",
      "2017    66.714142\n",
      "2018    53.124295\n",
      "dtype: float64\n"
     ]
    }
   ],
   "source": [
    "def YearlyProfit(data):\n",
    "    tempX =  data.groupby('Year')[['Price Charged']].mean()\n",
    "    tempY =  data.groupby('Year')[['Cost of Trip']].mean()\n",
    "    \n",
    "    return tempX['Price Charged'] - tempY['Cost of Trip']\n",
    "\n",
    "YellowCabYearly = YearlyProfit(temp_csv1)\n",
    "PinkCabYearly = YearlyProfit(temp_csv2)\n",
    "\n",
    "print(YellowCabYearly,PinkCabYearly)"
   ]
  },
  {
   "cell_type": "code",
   "execution_count": 35,
   "id": "2408f682",
   "metadata": {},
   "outputs": [
    {
     "data": {
      "text/plain": [
       "<BarContainer object of 3 artists>"
      ]
     },
     "execution_count": 35,
     "metadata": {},
     "output_type": "execute_result"
    },
    {
     "data": {
      "image/png": "[encoded data removed]",
      "text/plain": [
       "<Figure size 1080x432 with 2 Axes>"
      ]
     },
     "metadata": {
      "needs_background": "light"
     },
     "output_type": "display_data"
    }
   ],
   "source": [
    "plt.figure(figsize=(15,6))\n",
    "\n",
    "plt.subplot(1,2,1)\n",
    "plt.xticks(rotation=90)\n",
    "plt.xlabel('Years')\n",
    "plt.ylabel('Profit')\n",
    "plt.title('Yellow Cab Company Yearly Profits')\n",
    "plt.bar(YellowCabYearly.index,YellowCabYearly,color='yellow')\n",
    "\n",
    "plt.subplot(1,2,2)\n",
    "plt.xticks(rotation=90)\n",
    "plt.xlabel('Years')\n",
    "plt.ylabel('Profit')\n",
    "plt.title('Pink Cab Company Yearly Profits')\n",
    "plt.bar(PinkCabYearly.index,PinkCabYearly,color='pink')"
   ]
  },
  {
   "cell_type": "markdown",
   "id": "acf475a3",
   "metadata": {},
   "source": [
    "## Inference"
   ]
  },
  {
   "cell_type": "markdown",
   "id": "ef3ee3ab",
   "metadata": {},
   "source": [
    "From this graph we can see that both Yellow and Pink Cab companies have lost a slim profit from 2016 to 2017 while Pink Cab companys profit loss is slightly more. We can also see that from 2017 to 2018 there is a significant amount of loss in both companies and loss margin is almost identical."
   ]
  },
  {
   "cell_type": "markdown",
   "id": "4d4aad82",
   "metadata": {},
   "source": [
    "## Analysis based on KM traveled"
   ]
  },
  {
   "cell_type": "code",
   "execution_count": 36,
   "id": "27776628",
   "metadata": {},
   "outputs": [
    {
     "name": "stderr",
     "output_type": "stream",
     "text": [
      "C:\\Users\\zgrts\\anaconda3\\lib\\site-packages\\seaborn\\_decorators.py:36: FutureWarning: Pass the following variable as a keyword arg: x. From version 0.12, the only valid positional argument will be `data`, and passing other arguments without an explicit keyword will result in an error or misinterpretation.\n",
      "  warnings.warn(\n"
     ]
    },
    {
     "data": {
      "text/plain": [
       "<AxesSubplot:xlabel='KM Travelled', ylabel='count'>"
      ]
     },
     "execution_count": 36,
     "metadata": {},
     "output_type": "execute_result"
    },
    {
     "data": {
      "image/png": "[encoded data removed]",
      "text/plain": [
       "<Figure size 1080x432 with 1 Axes>"
      ]
     },
     "metadata": {
      "needs_background": "light"
     },
     "output_type": "display_data"
    }
   ],
   "source": [
    "plt.figure(figsize=(15,6))\n",
    "\n",
    "sns.countplot(new_csv['KM Travelled'],order = new_csv['KM Travelled'].value_counts().iloc[:10].index,hue=new_csv['Company'])"
   ]
  },
  {
   "cell_type": "markdown",
   "id": "81871e2d",
   "metadata": {},
   "source": [
    "## Inference"
   ]
  },
  {
   "cell_type": "markdown",
   "id": "be3ec6fd",
   "metadata": {},
   "source": [
    "Here, we can see the top 10 most used travel values. We can see that mostly, customers prefer to travel 20 to 30 KM's."
   ]
  },
  {
   "cell_type": "markdown",
   "id": "c6d4ae3d",
   "metadata": {},
   "source": [
    "## Income wise analysis"
   ]
  },
  {
   "cell_type": "code",
   "execution_count": 63,
   "id": "2808d877",
   "metadata": {},
   "outputs": [
    {
     "data": {
      "text/html": [
       "<div>\n",
       "<style scoped>\n",
       "    .dataframe tbody tr th:only-of-type {\n",
       "        vertical-align: middle;\n",
       "    }\n",
       "\n",
       "    .dataframe tbody tr th {\n",
       "        vertical-align: top;\n",
       "    }\n",
       "\n",
       "    .dataframe thead th {\n",
       "        text-align: right;\n",
       "    }\n",
       "</style>\n",
       "<table border=\"1\" class=\"dataframe\">\n",
       "  <thead>\n",
       "    <tr style=\"text-align: right;\">\n",
       "      <th></th>\n",
       "      <th>Transaction ID</th>\n",
       "      <th>Company</th>\n",
       "      <th>City</th>\n",
       "      <th>KM Travelled</th>\n",
       "      <th>Price Charged</th>\n",
       "      <th>Cost of Trip</th>\n",
       "      <th>Population</th>\n",
       "      <th>Users</th>\n",
       "      <th>Customer ID</th>\n",
       "      <th>Gender</th>\n",
       "      <th>Age</th>\n",
       "      <th>Income (USD/Month)</th>\n",
       "      <th>Payment_Mode</th>\n",
       "      <th>Month</th>\n",
       "      <th>Year</th>\n",
       "      <th>Profit</th>\n",
       "      <th>ProfitPerKm</th>\n",
       "      <th>Season</th>\n",
       "      <th>Income Status</th>\n",
       "    </tr>\n",
       "  </thead>\n",
       "  <tbody>\n",
       "    <tr>\n",
       "      <th>0</th>\n",
       "      <td>10000011</td>\n",
       "      <td>Pink Cab</td>\n",
       "      <td>ATLANTA GA</td>\n",
       "      <td>30.45</td>\n",
       "      <td>370.95</td>\n",
       "      <td>313.635</td>\n",
       "      <td>814,885</td>\n",
       "      <td>24,701</td>\n",
       "      <td>29290</td>\n",
       "      <td>Male</td>\n",
       "      <td>28</td>\n",
       "      <td>10813</td>\n",
       "      <td>Card</td>\n",
       "      <td>1</td>\n",
       "      <td>2016</td>\n",
       "      <td>57.315</td>\n",
       "      <td>1.882266</td>\n",
       "      <td>Winter</td>\n",
       "      <td>wealthy</td>\n",
       "    </tr>\n",
       "    <tr>\n",
       "      <th>1</th>\n",
       "      <td>10000012</td>\n",
       "      <td>Pink Cab</td>\n",
       "      <td>ATLANTA GA</td>\n",
       "      <td>28.62</td>\n",
       "      <td>358.52</td>\n",
       "      <td>334.854</td>\n",
       "      <td>814,885</td>\n",
       "      <td>24,701</td>\n",
       "      <td>27703</td>\n",
       "      <td>Male</td>\n",
       "      <td>27</td>\n",
       "      <td>9237</td>\n",
       "      <td>Card</td>\n",
       "      <td>1</td>\n",
       "      <td>2016</td>\n",
       "      <td>23.666</td>\n",
       "      <td>0.826904</td>\n",
       "      <td>Winter</td>\n",
       "      <td>wealthy</td>\n",
       "    </tr>\n",
       "    <tr>\n",
       "      <th>2</th>\n",
       "      <td>10000013</td>\n",
       "      <td>Pink Cab</td>\n",
       "      <td>ATLANTA GA</td>\n",
       "      <td>9.04</td>\n",
       "      <td>125.20</td>\n",
       "      <td>97.632</td>\n",
       "      <td>814,885</td>\n",
       "      <td>24,701</td>\n",
       "      <td>28712</td>\n",
       "      <td>Male</td>\n",
       "      <td>53</td>\n",
       "      <td>11242</td>\n",
       "      <td>Cash</td>\n",
       "      <td>1</td>\n",
       "      <td>2016</td>\n",
       "      <td>27.568</td>\n",
       "      <td>3.049558</td>\n",
       "      <td>Winter</td>\n",
       "      <td>wealthy</td>\n",
       "    </tr>\n",
       "    <tr>\n",
       "      <th>3</th>\n",
       "      <td>10000014</td>\n",
       "      <td>Pink Cab</td>\n",
       "      <td>ATLANTA GA</td>\n",
       "      <td>33.17</td>\n",
       "      <td>377.40</td>\n",
       "      <td>351.602</td>\n",
       "      <td>814,885</td>\n",
       "      <td>24,701</td>\n",
       "      <td>28020</td>\n",
       "      <td>Male</td>\n",
       "      <td>23</td>\n",
       "      <td>23327</td>\n",
       "      <td>Cash</td>\n",
       "      <td>1</td>\n",
       "      <td>2016</td>\n",
       "      <td>25.798</td>\n",
       "      <td>0.777751</td>\n",
       "      <td>Winter</td>\n",
       "      <td>wealthy</td>\n",
       "    </tr>\n",
       "    <tr>\n",
       "      <th>4</th>\n",
       "      <td>10000015</td>\n",
       "      <td>Pink Cab</td>\n",
       "      <td>ATLANTA GA</td>\n",
       "      <td>8.73</td>\n",
       "      <td>114.62</td>\n",
       "      <td>97.776</td>\n",
       "      <td>814,885</td>\n",
       "      <td>24,701</td>\n",
       "      <td>27182</td>\n",
       "      <td>Male</td>\n",
       "      <td>33</td>\n",
       "      <td>8536</td>\n",
       "      <td>Card</td>\n",
       "      <td>1</td>\n",
       "      <td>2016</td>\n",
       "      <td>16.844</td>\n",
       "      <td>1.929439</td>\n",
       "      <td>Winter</td>\n",
       "      <td>wealthy</td>\n",
       "    </tr>\n",
       "  </tbody>\n",
       "</table>\n",
       "</div>"
      ],
      "text/plain": [
       "   Transaction ID   Company        City  KM Travelled  Price Charged  \\\n",
       "0        10000011  Pink Cab  ATLANTA GA         30.45         370.95   \n",
       "1        10000012  Pink Cab  ATLANTA GA         28.62         358.52   \n",
       "2        10000013  Pink Cab  ATLANTA GA          9.04         125.20   \n",
       "3        10000014  Pink Cab  ATLANTA GA         33.17         377.40   \n",
       "4        10000015  Pink Cab  ATLANTA GA          8.73         114.62   \n",
       "\n",
       "   Cost of Trip Population     Users  Customer ID Gender  Age  \\\n",
       "0       313.635   814,885    24,701         29290   Male   28   \n",
       "1       334.854   814,885    24,701         27703   Male   27   \n",
       "2        97.632   814,885    24,701         28712   Male   53   \n",
       "3       351.602   814,885    24,701         28020   Male   23   \n",
       "4        97.776   814,885    24,701         27182   Male   33   \n",
       "\n",
       "   Income (USD/Month) Payment_Mode  Month  Year  Profit  ProfitPerKm  Season  \\\n",
       "0               10813         Card      1  2016  57.315     1.882266  Winter   \n",
       "1                9237         Card      1  2016  23.666     0.826904  Winter   \n",
       "2               11242         Cash      1  2016  27.568     3.049558  Winter   \n",
       "3               23327         Cash      1  2016  25.798     0.777751  Winter   \n",
       "4                8536         Card      1  2016  16.844     1.929439  Winter   \n",
       "\n",
       "  Income Status  \n",
       "0       wealthy  \n",
       "1       wealthy  \n",
       "2       wealthy  \n",
       "3       wealthy  \n",
       "4       wealthy  "
      ]
     },
     "execution_count": 63,
     "metadata": {},
     "output_type": "execute_result"
    }
   ],
   "source": [
    "bins=[0,2500,7500,30000]\n",
    "labels = ['poor','mid','wealthy']\n",
    "\n",
    "new_csv['Income Status'] = pd.cut(new_csv['Income (USD/Month)'],bins=bins,labels=labels)\n",
    "new_csv.head()"
   ]
  },
  {
   "cell_type": "code",
   "execution_count": 64,
   "id": "68a81100",
   "metadata": {},
   "outputs": [
    {
     "data": {
      "text/plain": [
       "16563"
      ]
     },
     "execution_count": 64,
     "metadata": {},
     "output_type": "execute_result"
    }
   ],
   "source": [
    "new_csv['Income Status'].isnull().sum()"
   ]
  },
  {
   "cell_type": "code",
   "execution_count": 62,
   "id": "b989f3c5",
   "metadata": {},
   "outputs": [
    {
     "data": {
      "text/plain": [
       "<matplotlib.legend.Legend at 0x1e534161670>"
      ]
     },
     "execution_count": 62,
     "metadata": {},
     "output_type": "execute_result"
    },
    {
     "data": {
      "image/png": "[encoded data removed]",
      "text/plain": [
       "<Figure size 1008x720 with 1 Axes>"
      ]
     },
     "metadata": {
      "needs_background": "light"
     },
     "output_type": "display_data"
    }
   ],
   "source": [
    "temp_csv1 = new_csv.loc[new_csv['Company']=='Yellow Cab']\n",
    "temp_csv2 = new_csv.loc[new_csv['Company']=='Pink Cab']\n",
    "\n",
    "temp = new_csv.groupby('Income Status')[['Profit']].mean()\n",
    "temp2 = temp_csv2.groupby('Income Status')[['Profit']].mean()\n",
    "\n",
    "X = np.arange(len(temp.index))\n",
    "\n",
    "plt.figure(figsize=(14,10))\n",
    "\n",
    "plt.xlabel('Wealth')\n",
    "plt.ylabel('Contribution into the Profit')\n",
    "plt.title('Contribution of the mean profit of wealth classes')\n",
    "plt.bar(X+0.25,temp.Profit,width=0.2,label = 'Yellow Cab Company')\n",
    "plt.bar(X+0.5,temp2.Profit,width=0.2,label = 'Pink Cab Company')\n",
    "plt.xticks([i + 0.25 for i in range(3)], ['POOR', 'MID', 'WEALTHY'])\n",
    "plt.legend()"
   ]
  },
  {
   "cell_type": "markdown",
   "id": "e4457f2b",
   "metadata": {},
   "source": [
    "## Inference"
   ]
  },
  {
   "cell_type": "markdown",
   "id": "e04269fb",
   "metadata": {},
   "source": [
    "We can see that almost all wealth classes contribute the same to the profit when we take the classes means."
   ]
  },
  {
   "cell_type": "code",
   "execution_count": 43,
   "id": "e4d93505",
   "metadata": {},
   "outputs": [
    {
     "data": {
      "text/plain": [
       "<AxesSubplot:xlabel='Payment_Mode', ylabel='Profit'>"
      ]
     },
     "execution_count": 43,
     "metadata": {},
     "output_type": "execute_result"
    },
    {
     "data": {
      "image/png": "[encoded data removed]",
      "text/plain": [
       "<Figure size 1440x720 with 1 Axes>"
      ]
     },
     "metadata": {
      "needs_background": "light"
     },
     "output_type": "display_data"
    }
   ],
   "source": [
    "plt.figure(figsize=(20,10))\n",
    "\n",
    "sns.boxplot(y=new_csv.Profit,x=new_csv.Payment_Mode,hue=new_csv.Company)"
   ]
  },
  {
   "cell_type": "markdown",
   "id": "99686628",
   "metadata": {},
   "source": [
    "## Inference:"
   ]
  },
  {
   "cell_type": "markdown",
   "id": "583d69b6",
   "metadata": {},
   "source": [
    "From this graph, we can see that almost equal number of profits have been made from both payment modes. Company wise, of course Yellow Cab Company has made more profit for each of the payment modes than the Pink Cab Company"
   ]
  },
  {
   "cell_type": "markdown",
   "id": "d2de0eaa",
   "metadata": {},
   "source": [
    "## Hyphotesis Testing"
   ]
  },
  {
   "cell_type": "markdown",
   "id": "232b9d5e",
   "metadata": {},
   "source": [
    "Hyphotesis one: Females bring less profit than Man"
   ]
  },
  {
   "cell_type": "code",
   "execution_count": 91,
   "id": "99af3b54",
   "metadata": {},
   "outputs": [
    {
     "name": "stdout",
     "output_type": "stream",
     "text": [
      "116000 158681\n",
      "Accept alternative hypothesis\n",
      "P value is  6.060473042494144e-25\n"
     ]
    }
   ],
   "source": [
    "f_Profit = new_csv[(new_csv.Gender=='Female')&(new_csv.Company=='Yellow Cab')].groupby('Transaction ID').Profit.mean()\n",
    "m_Profit = new_csv[(new_csv.Gender=='Male')&(new_csv.Company=='Yellow Cab')].groupby('Transaction ID').Profit.mean()\n",
    "print(f_Profit.shape[0],m_Profit.shape[0])\n",
    "\n",
    "from scipy import stats\n",
    "_, p_value = stats.ttest_ind(f_Profit.values,m_Profit.values,equal_var=True)\n",
    "if(p_value > 0.05):\n",
    "    print('Accept null hypothesis')\n",
    "else:\n",
    "    print('Accept alternative hypothesis')\n",
    "    \n",
    "print('P value is ', p_value)"
   ]
  },
  {
   "cell_type": "code",
   "execution_count": 95,
   "id": "b27904f3",
   "metadata": {},
   "outputs": [
    {
     "name": "stdout",
     "output_type": "stream",
     "text": [
      "37480 47231\n",
      "Accept null hypothesis\n",
      "P value is  0.11515305900425798\n"
     ]
    }
   ],
   "source": [
    "f_Profit = new_csv[(new_csv.Gender=='Female')&(new_csv.Company=='Pink Cab')].groupby('Transaction ID').Profit.mean()\n",
    "m_Profit = new_csv[(new_csv.Gender=='Male')&(new_csv.Company=='Pink Cab')].groupby('Transaction ID').Profit.mean()\n",
    "print(f_Profit.shape[0],m_Profit.shape[0])\n",
    "\n",
    "from scipy import stats\n",
    "_, p_value = stats.ttest_ind(f_Profit.values,m_Profit.values,equal_var=True)\n",
    "if(p_value > 0.05):\n",
    "    print('Accept null hypothesis')\n",
    "else:\n",
    "    print('Accept alternative hypothesis')\n",
    "    \n",
    "print('P value is ', p_value)"
   ]
  },
  {
   "cell_type": "markdown",
   "id": "c38be786",
   "metadata": {},
   "source": [
    "Hyphotesis two: Does profit/margins change depending on gender of customer?"
   ]
  },
  {
   "cell_type": "code",
   "execution_count": 94,
   "id": "6f45858a",
   "metadata": {},
   "outputs": [
    {
     "name": "stdout",
     "output_type": "stream",
     "text": [
      "158681 116000\n",
      "Accept alternative hypothesis\n",
      "P value is  6.060473042494144e-25\n"
     ]
    }
   ],
   "source": [
    "m = new_csv[(new_csv.Gender=='Male')&(new_csv.Company=='Yellow Cab')].groupby('Transaction ID').Profit.mean()\n",
    "f = new_csv[(new_csv.Gender=='Female')&(new_csv.Company=='Yellow Cab')].groupby('Transaction ID').Profit.mean()\n",
    "print(m.shape[0],f.shape[0])\n",
    "\n",
    "from scipy import stats\n",
    "_, p_value = stats.ttest_ind(m.values,b=f.values,equal_var=True)\n",
    "if(p_value<0.05):\n",
    "    print('Accept alternative hypothesis')\n",
    "else:\n",
    "    print('Accept null hypothesis')\n",
    "    \n",
    "print('P value is ', p_value)"
   ]
  },
  {
   "cell_type": "code",
   "execution_count": 96,
   "id": "4a267160",
   "metadata": {},
   "outputs": [
    {
     "name": "stdout",
     "output_type": "stream",
     "text": [
      "47231 37480\n",
      "Accept null hypothesis\n",
      "P value is  0.11515305900425798\n"
     ]
    }
   ],
   "source": [
    "m = new_csv[(new_csv.Gender=='Male')&(new_csv.Company=='Pink Cab')].groupby('Transaction ID').Profit.mean()\n",
    "f = new_csv[(new_csv.Gender=='Female')&(new_csv.Company=='Pink Cab')].groupby('Transaction ID').Profit.mean()\n",
    "print(m.shape[0],f.shape[0])\n",
    "\n",
    "from scipy import stats\n",
    "_, p_value = stats.ttest_ind(m.values,b=f.values,equal_var=True)\n",
    "if(p_value<0.05):\n",
    "    print('Accept alternative hypothesis')\n",
    "else:\n",
    "    print('Accept null hypothesis')\n",
    "    \n",
    "print('P value is ', p_value)"
   ]
  },
  {
   "cell_type": "markdown",
   "id": "96da4158",
   "metadata": {},
   "source": [
    "Hyphotesis three: The mean Profit for the different Age groups for Yellow Cab are equal."
   ]
  },
  {
   "cell_type": "code",
   "execution_count": 98,
   "id": "20fa3520",
   "metadata": {},
   "outputs": [],
   "source": [
    "young = new_csv[(new_csv['Age Range'] == 'young')&(new_csv.Company=='Yellow Cab')].groupby('Transaction ID').Profit.mean()\n",
    "middle_aged = new_csv[(new_csv['Age Range'] == 'middle aged')&(new_csv.Company=='Yellow Cab')].groupby('Transaction ID').Profit.mean()\n",
    "old = new_csv[(new_csv['Age Range'] == 'old')&(new_csv.Company=='Yellow Cab')].groupby('Transaction ID').Profit.mean()\n"
   ]
  },
  {
   "cell_type": "code",
   "execution_count": 99,
   "id": "1dd337c1",
   "metadata": {},
   "outputs": [
    {
     "name": "stdout",
     "output_type": "stream",
     "text": [
      "stat=1.030, p=0.357\n",
      "There is no difference in Profit due to Age\n"
     ]
    }
   ],
   "source": [
    "from scipy.stats import f_oneway\n",
    "\n",
    "stat, p = f_oneway(young.values, middle_aged.values, old.values)\n",
    "print('stat=%.3f, p=%.3f' % (stat, p))\n",
    "if p > 0.05:\n",
    "    print('There is no difference in Profit due to Age')\n",
    "else:\n",
    "    print('There is a difference in Profit due to Age')\n",
    "     "
   ]
  },
  {
   "cell_type": "code",
   "execution_count": null,
   "id": "65b55763",
   "metadata": {},
   "outputs": [],
   "source": [
    "young = new_csv[(new_csv['Age Range'] == 'young')&(new_csv.Company=='Pink Cab')].groupby('Transaction ID').Profit.mean()\n",
    "middle_aged = new_csv[(new_csv['Age Range'] == 'middle aged')&(new_csv.Company=='Pink Cab')].groupby('Transaction ID').Profit.mean()\n",
    "old = new_csv[(new_csv['Age Range'] == 'old')&(new_csv.Company=='Pink Cab')].groupby('Transaction ID').Profit.mean()"
   ]
  },
  {
   "cell_type": "code",
   "execution_count": 100,
   "id": "63554aa5",
   "metadata": {},
   "outputs": [
    {
     "name": "stdout",
     "output_type": "stream",
     "text": [
      "stat=1.030, p=0.357\n",
      "There is no difference in Profit due to Age\n"
     ]
    }
   ],
   "source": [
    "from scipy.stats import f_oneway\n",
    "\n",
    "stat, p = f_oneway(young.values, middle_aged.values, old.values)\n",
    "print('stat=%.3f, p=%.3f' % (stat, p))\n",
    "if p > 0.05:\n",
    "    print('There is no difference in Profit due to Age')\n",
    "else:\n",
    "    print('There is a difference in Profit due to Age')\n",
    "     "
   ]
  },
  {
   "cell_type": "code",
   "execution_count": null,
   "id": "9249bcde",
   "metadata": {},
   "outputs": [],
   "source": []
  }
 ],
 "metadata": {
  "kernelspec": {
   "display_name": "Python 3 (ipykernel)",
   "language": "python",
   "name": "python3"
  },
  "language_info": {
   "codemirror_mode": {
    "name": "ipython",
    "version": 3
   },
   "file_extension": ".py",
   "mimetype": "text/x-python",
   "name": "python",
   "nbconvert_exporter": "python",
   "pygments_lexer": "ipython3",
   "version": "3.9.12"
  }
 },
 "nbformat": 4,
 "nbformat_minor": 5
}
